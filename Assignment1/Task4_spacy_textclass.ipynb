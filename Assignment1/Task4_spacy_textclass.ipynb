{
 "cells": [
  {
   "cell_type": "markdown",
   "metadata": {},
   "source": [
    "Code Referred from - https://www.analyticsvidhya.com/blog/2017/04/natural-language-processing-made-easy-using-spacy-%E2%80%8Bin-python/"
   ]
  },
  {
   "cell_type": "code",
   "execution_count": 1,
   "metadata": {},
   "outputs": [],
   "source": [
    "from sklearn.feature_extraction.text import CountVectorizer \n",
    "from sklearn.metrics import accuracy_score \n",
    "from sklearn.base import TransformerMixin \n",
    "from sklearn.pipeline import Pipeline\n",
    "from sklearn.svm import LinearSVC\n",
    "\n",
    "import spacy\n",
    "\n",
    "import string\n",
    "punctuations = string.punctuation\n",
    "\n",
    "parser = spacy.load('en')\n",
    "\n",
    "class predictors(TransformerMixin):\n",
    "    def transform(self, X, **transform_params):\n",
    "        return [clean_text(text) for text in X]\n",
    "    def fit(self, X, y=None, **fit_params):\n",
    "        return self\n",
    "    def get_params(self, deep=True):\n",
    "        return {}\n",
    "\n",
    "def clean_text(text):     \n",
    "    return text.strip().lower()"
   ]
  },
  {
   "cell_type": "code",
   "execution_count": 2,
   "metadata": {},
   "outputs": [],
   "source": [
    " def spacy_tokenizer(sentence):\n",
    "    tokens = parser(sentence)\n",
    "    tokens = [tok.lemma_.lower().strip() if tok.lemma_ != \"-PRON-\" else tok.lower_ for tok in tokens]\n",
    "    return tokens"
   ]
  },
  {
   "cell_type": "code",
   "execution_count": 3,
   "metadata": {},
   "outputs": [],
   "source": [
    "vectorizer = CountVectorizer(tokenizer = spacy_tokenizer, ngram_range=(1,1)) \n",
    "classifier = LinearSVC()"
   ]
  },
  {
   "cell_type": "code",
   "execution_count": 4,
   "metadata": {},
   "outputs": [
    {
     "name": "stdout",
     "output_type": "stream",
     "text": [
      "('this is an amazing place!', 'pos') pos\n",
      "('this is my best work.', 'pos') pos\n",
      "('I do not like this restaurant', 'neg') neg\n",
      "('I can not deal with this', 'neg') neg\n",
      "('my boss is horrible.', 'neg') pos\n",
      "('the beer was good.', 'pos') pos\n",
      "(\"I ain't feelin dandy today.\", 'neg') neg\n",
      "('Gary is a good friend of mine.', 'pos') pos\n",
      "Accuracy: 0.875\n"
     ]
    }
   ],
   "source": [
    "pipe = Pipeline([(\"cleaner\", predictors()),\n",
    "                 ('vectorizer', vectorizer),\n",
    "                 ('classifier', classifier)])\n",
    "\n",
    "train = [('He likes sweets.','pos'),\n",
    "        ('Maria is not a professional singer.','neg'),\n",
    "        ('Sam is a good boy.','pos'),\n",
    "        ('The existence of superheroes isn’t proven.','neg'),\n",
    "        ('He will come tomorrow.','pos'),\n",
    "        ('The coffee shop is not yet open for another batch of service crew.','neg'),\n",
    "        ('We should love the people around us.','pos'),\n",
    "        ('Maria and her friends are not going to be present today.','neg'),\n",
    "        ('Mother loves her children.','pos'),\n",
    "        ('The superheroes you have seen in films aren’t real.','neg'),\n",
    "        ('I like to help people.','pos'),\n",
    "        ('If you are not going to present during the final presentation, you will fail the subject.','neg'),\n",
    "        ('Think positive, and pray.','pos'),\n",
    "        ('The teacher was not pleased to see me running late for school.','neg'),\n",
    "        ('Peter is running.','pos'),\n",
    "        ('The television show host was not good in presenting the television program.','neg'),\n",
    "        ('We should tell the truth.','pos'),\n",
    "        (\"I wasn't allowed to enter the premises.\",'neg'),\n",
    "        ('It is sunny.','pos'),\n",
    "         ('I love this sandwich.', 'pos'),\n",
    "         ('I feel very good about these beers.', 'pos'),\n",
    "          (\"what an awesome view\", 'pos'),\n",
    "         ('I am tired of this stuff.', 'neg'),\n",
    "          ('he is my sworn enemy!', 'neg'),\n",
    "         ('I do not enjoy my job', 'neg'),\n",
    "         (\"I feel amazing!\", 'pos'),\n",
    "         (\"I can't believe I'm doing this.\", 'neg'),\n",
    "        ('You are not equipped to do the task yet.','neg')] \n",
    "test =   [          \n",
    "         ('this is an amazing place!', 'pos'),\n",
    "         ('this is my best work.', 'pos'),\n",
    "         ('I do not like this restaurant', 'neg'),\n",
    "         (\"I can not deal with this\", 'neg'),\n",
    "         ('my boss is horrible.', 'neg'),\n",
    "         ('the beer was good.', 'pos'),     \n",
    "         (\"I ain't feelin dandy today.\", 'neg'),\n",
    "         ('Gary is a good friend of mine.', 'pos')]\n",
    "\n",
    "pipe.fit([x[0] for x in train], [x[1] for x in train]) \n",
    "pred_data = pipe.predict([x[0] for x in test]) \n",
    "for (sample, pred) in zip(test, pred_data):\n",
    "    print (sample, pred) \n",
    "print (\"Accuracy:\", accuracy_score([x[1] for x in test], pred_data))\n"
   ]
  }
 ],
 "metadata": {
  "kernelspec": {
   "display_name": "Python 3",
   "language": "python",
   "name": "python3"
  },
  "language_info": {
   "codemirror_mode": {
    "name": "ipython",
    "version": 3
   },
   "file_extension": ".py",
   "mimetype": "text/x-python",
   "name": "python",
   "nbconvert_exporter": "python",
   "pygments_lexer": "ipython3",
   "version": "3.7.1"
  }
 },
 "nbformat": 4,
 "nbformat_minor": 2
}
