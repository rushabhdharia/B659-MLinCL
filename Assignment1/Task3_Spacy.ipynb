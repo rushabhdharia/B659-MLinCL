{
 "cells": [
  {
   "cell_type": "code",
   "execution_count": 1,
   "metadata": {},
   "outputs": [],
   "source": [
    "import spacy"
   ]
  },
  {
   "cell_type": "code",
   "execution_count": 2,
   "metadata": {},
   "outputs": [],
   "source": [
    "nlp = spacy.load('en')\n",
    "doc = nlp(u'John met Susan in the mall. She told him that she is traveling to Europe next week.')"
   ]
  },
  {
   "cell_type": "code",
   "execution_count": 3,
   "metadata": {},
   "outputs": [
    {
     "name": "stdout",
     "output_type": "stream",
     "text": [
      "John PROPN john\n",
      "met VERB meet\n",
      "Susan PROPN susan\n",
      "in ADP in\n",
      "the DET the\n",
      "mall NOUN mall\n",
      ". PUNCT .\n",
      "She PRON -PRON-\n",
      "told VERB tell\n",
      "him PRON -PRON-\n",
      "that ADP that\n",
      "she PRON -PRON-\n",
      "is VERB be\n",
      "traveling VERB travel\n",
      "to ADP to\n",
      "Europe PROPN europe\n",
      "next ADJ next\n",
      "week NOUN week\n",
      ". PUNCT .\n",
      "John 0 4 PERSON\n",
      "Susan 9 14 PERSON\n",
      "Europe 66 72 LOC\n",
      "next week 73 82 DATE\n",
      "John nsubj met VERB []\n",
      "met ROOT met VERB [John, Susan, in, .]\n",
      "Susan dobj met VERB []\n",
      "in prep met VERB [mall]\n",
      "the det mall NOUN []\n",
      "mall pobj in ADP [the]\n",
      ". punct met VERB []\n",
      "She nsubj told VERB []\n",
      "told ROOT told VERB [She, him, traveling, .]\n",
      "him dobj told VERB []\n",
      "that mark traveling VERB []\n",
      "she nsubj traveling VERB []\n",
      "is aux traveling VERB []\n",
      "traveling ccomp told VERB [that, she, is, to, week]\n",
      "to prep traveling VERB [Europe]\n",
      "Europe pobj to ADP []\n",
      "next amod week NOUN []\n",
      "week npadvmod traveling VERB [next]\n",
      ". punct told VERB []\n"
     ]
    }
   ],
   "source": [
    "for token in doc:\n",
    "    print(token.text, token.pos_, token.lemma_)\n",
    "\n",
    "for ent in doc.ents:\n",
    "    print(ent.text, ent.start_char, ent.end_char, ent.label_)\n",
    "\n",
    "#Navigating Parse tree\n",
    "for token in doc:\n",
    "    print(token.text, token.dep_, token.head.text, token.head.pos_,\n",
    "          [child for child in token.children])\n"
   ]
  },
  {
   "cell_type": "markdown",
   "metadata": {},
   "source": [
    "List of POS tags for spacy - https://stackoverflow.com/questions/40288323/what-do-spacys-part-of-speech-and-dependency-tags-mean"
   ]
  },
  {
   "cell_type": "code",
   "execution_count": 4,
   "metadata": {},
   "outputs": [],
   "source": [
    "pos_vector1 = [] #POS Vector for sentece 1\n",
    "pos_vector2 = [] #POS Vector for sentece 2\n",
    "\n",
    "list_pos = ['ADJ', 'ADP', 'ADV', 'AUX', 'CONJ', 'DET', 'INTJ', 'NOUN', 'NUM', 'PART', 'PRON', 'PROPN', 'PUNCT', 'SCONJ', 'SYM', 'VERB', 'X']\n",
    "\n",
    "dict_1 = {}\n",
    "dict_2 = {}\n",
    "for i in list_pos:\n",
    "    dict_1[i]=0\n",
    "    dict_2[i]=0\n",
    "\n",
    "counter = 0\n",
    "for token in doc:\n",
    "    if counter == 0:\n",
    "        if(str(token) == '.'):\n",
    "            counter += 1\n",
    "            continue\n",
    "        dict_1[token.pos_]+=1\n",
    "    else:\n",
    "        if(str(token) == '.'):\n",
    "            break\n",
    "        dict_2[token.pos_]+=1\n",
    "    \n",
    "for i in list_pos:\n",
    "    pos_vector1.append(dict_1[i])\n",
    "    pos_vector2.append(dict_2[i])"
   ]
  },
  {
   "cell_type": "code",
   "execution_count": 5,
   "metadata": {},
   "outputs": [
    {
     "name": "stdout",
     "output_type": "stream",
     "text": [
      "[0, 1, 0, 0, 0, 1, 0, 1, 0, 0, 0, 2, 0, 0, 0, 1, 0]\n",
      "[1, 2, 0, 0, 0, 0, 0, 1, 0, 0, 3, 1, 0, 0, 0, 3, 0]\n"
     ]
    }
   ],
   "source": [
    "print(pos_vector1)\n",
    "print(pos_vector2)"
   ]
  }
 ],
 "metadata": {
  "kernelspec": {
   "display_name": "Python 3",
   "language": "python",
   "name": "python3"
  },
  "language_info": {
   "codemirror_mode": {
    "name": "ipython",
    "version": 3
   },
   "file_extension": ".py",
   "mimetype": "text/x-python",
   "name": "python",
   "nbconvert_exporter": "python",
   "pygments_lexer": "ipython3",
   "version": "3.7.1"
  }
 },
 "nbformat": 4,
 "nbformat_minor": 2
}
